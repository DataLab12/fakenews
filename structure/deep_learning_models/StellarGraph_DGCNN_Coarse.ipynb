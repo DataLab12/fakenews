{
 "cells": [
  {
   "cell_type": "code",
   "execution_count": 77,
   "metadata": {},
   "outputs": [],
   "source": [
    "import pandas as pd\n",
    "import numpy as np\n",
    "\n",
    "import stellargraph as sg\n",
    "from stellargraph.mapper import PaddedGraphGenerator\n",
    "from stellargraph.layer import DeepGraphCNN\n",
    "from stellargraph import StellarGraph\n",
    "\n",
    "from stellargraph import datasets\n",
    "\n",
    "from sklearn import model_selection\n",
    "from IPython.display import display, HTML\n",
    "\n",
    "from tensorflow.keras import Model\n",
    "from tensorflow.keras.optimizers import Adam\n",
    "from tensorflow.keras.layers import Dense, Conv1D, MaxPool1D, Dropout, Flatten\n",
    "from tensorflow.keras.losses import binary_crossentropy\n",
    "import tensorflow as tf"
   ]
  },
  {
   "cell_type": "code",
   "execution_count": 78,
   "metadata": {},
   "outputs": [],
   "source": [
    "conspiracy_5G_path = '/Users/maria/Desktop/twitterAnalysis/FakeNews/dataset/graphs/5g_corona_conspiracy/'\n",
    "conspiracy_other_path = '/Users/maria/Desktop/twitterAnalysis/FakeNews/dataset/graphs/non_conspiracy/'\n",
    "non_conspiracy_path = '/Users/maria/Desktop/twitterAnalysis/FakeNews/dataset/graphs/other_conspiracy/'\n",
    "test_graphs_path = '/Users/maria/Desktop/twitterAnalysis/FakeNews/dataset/graphs/test_graphs/'\n",
    "\n",
    "conspiracy_5G_N = 270\n",
    "conspiracy_other_N = 1660\n",
    "non_conspiracy_N = 397\n",
    "test_graphs_N = 1165"
   ]
  },
  {
   "cell_type": "code",
   "execution_count": 79,
   "metadata": {},
   "outputs": [],
   "source": [
    "conspiracy_5G = list()\n",
    "for i in range(conspiracy_5G_N):\n",
    "    g_id = i+1\n",
    "    nodes_path = conspiracy_5G_path + str(g_id) + '/nodes.csv'\n",
    "    edges_path = conspiracy_5G_path + str(g_id) + '/edges.txt'\n",
    "    g_nodes = pd.read_csv(nodes_path) \n",
    "    g_nodes = g_nodes.set_index('id') \n",
    "    g_edges = pd.read_csv(edges_path, header = None, sep=' ')\n",
    "    g_edges = g_edges.rename(columns={0: 'source', 1: 'target'})\n",
    "    g = StellarGraph(g_nodes, edges=g_edges)\n",
    "    conspiracy_5G.append(g)"
   ]
  },
  {
   "cell_type": "code",
   "execution_count": 80,
   "metadata": {},
   "outputs": [],
   "source": [
    "conspiracy_other = list()\n",
    "for i in range(conspiracy_other_N):\n",
    "    g_id = i+1\n",
    "    nodes_path = conspiracy_other_path + str(g_id) + '/nodes.csv'\n",
    "    edges_path = conspiracy_other_path + str(g_id) + '/edges.txt'\n",
    "    g_nodes = pd.read_csv(nodes_path)\n",
    "    g_nodes = g_nodes.set_index('id')\n",
    "    g_edges = pd.read_csv(edges_path, header = None, sep=' ')\n",
    "    g_edges = g_edges.rename(columns={0: 'source', 1: 'target'})\n",
    "    g = StellarGraph(g_nodes, edges=g_edges)\n",
    "    conspiracy_other.append(g)"
   ]
  },
  {
   "cell_type": "code",
   "execution_count": 81,
   "metadata": {},
   "outputs": [],
   "source": [
    "non_conspiracy = list()\n",
    "for i in range(non_conspiracy_N):\n",
    "    g_id = i+1\n",
    "    nodes_path = non_conspiracy_path + str(g_id) + '/nodes.csv'\n",
    "    edges_path = non_conspiracy_path + str(g_id) + '/edges.txt'\n",
    "    g_nodes = pd.read_csv(nodes_path) \n",
    "    g_nodes = g_nodes.set_index('id')\n",
    "    g_edges = pd.read_csv(edges_path, header = None, sep=' ')\n",
    "    g_edges = g_edges.rename(columns={0: 'source', 1: 'target'})\n",
    "    g = StellarGraph(g_nodes, edges=g_edges)\n",
    "    non_conspiracy.append(g)"
   ]
  },
  {
   "cell_type": "code",
   "execution_count": 82,
   "metadata": {},
   "outputs": [],
   "source": [
    "test_graphs_off = list()\n",
    "for i in range(test_graphs_N):\n",
    "    g_id = i+1\n",
    "    nodes_path = test_graphs_path + str(g_id) + '/nodes.csv'\n",
    "    edges_path = test_graphs_path + str(g_id) + '/edges.txt'\n",
    "    g_nodes = pd.read_csv(nodes_path) \n",
    "    g_nodes = g_nodes.set_index('id')\n",
    "    g_edges = pd.read_csv(edges_path, header = None, sep=' ')\n",
    "    g_edges = g_edges.rename(columns={0: 'source', 1: 'target'})\n",
    "    g = StellarGraph(g_nodes, edges=g_edges)\n",
    "    test_graphs_off.append(g)"
   ]
  },
  {
   "cell_type": "code",
   "execution_count": 83,
   "metadata": {},
   "outputs": [],
   "source": [
    "graphs = conspiracy_5G + conspiracy_other + non_conspiracy\n",
    "graph_labels = pd.Series(np.repeat([1, -1], [conspiracy_5G_N, conspiracy_other_N+non_conspiracy_N], axis=0))"
   ]
  },
  {
   "cell_type": "code",
   "execution_count": 84,
   "metadata": {},
   "outputs": [],
   "source": [
    "graph_labels = pd.get_dummies(graph_labels, drop_first=True)"
   ]
  },
  {
   "cell_type": "code",
   "execution_count": 85,
   "metadata": {},
   "outputs": [],
   "source": [
    "generator = PaddedGraphGenerator(graphs=graphs)"
   ]
  },
  {
   "cell_type": "code",
   "execution_count": 86,
   "metadata": {},
   "outputs": [],
   "source": [
    "k = 35  # the number of rows for the output tensor\n",
    "layer_sizes = [32, 32, 32, 1]\n",
    "\n",
    "dgcnn_model = DeepGraphCNN(\n",
    "    layer_sizes=layer_sizes,\n",
    "    activations=[\"tanh\", \"tanh\", \"tanh\", \"tanh\"],\n",
    "    k=k,\n",
    "    bias=False,\n",
    "    generator=generator,\n",
    ")\n",
    "x_inp, x_out = dgcnn_model.in_out_tensors()"
   ]
  },
  {
   "cell_type": "code",
   "execution_count": 87,
   "metadata": {},
   "outputs": [],
   "source": [
    "x_out = Conv1D(filters=16, kernel_size=sum(layer_sizes), strides=sum(layer_sizes))(x_out)\n",
    "x_out = MaxPool1D(pool_size=2)(x_out)\n",
    "\n",
    "x_out = Conv1D(filters=32, kernel_size=5, strides=1)(x_out)\n",
    "\n",
    "x_out = Flatten()(x_out)\n",
    "\n",
    "x_out = Dense(units=128, activation=\"relu\")(x_out)\n",
    "x_out = Dropout(rate=0.5)(x_out)\n",
    "\n",
    "predictions = Dense(units=1, activation=\"sigmoid\")(x_out)"
   ]
  },
  {
   "cell_type": "code",
   "execution_count": 88,
   "metadata": {},
   "outputs": [],
   "source": [
    "model = Model(inputs=x_inp, outputs=predictions)\n",
    "\n",
    "model.compile(\n",
    "    optimizer=Adam(lr=0.0001), loss=binary_crossentropy, metrics=[\"acc\"],\n",
    ")"
   ]
  },
  {
   "cell_type": "code",
   "execution_count": 89,
   "metadata": {},
   "outputs": [],
   "source": [
    "train_graphs, test_graphs = model_selection.train_test_split(\n",
    "    graph_labels, train_size=0.9, test_size=None, stratify=graph_labels,\n",
    ")"
   ]
  },
  {
   "cell_type": "code",
   "execution_count": 90,
   "metadata": {},
   "outputs": [],
   "source": [
    "gen = PaddedGraphGenerator(graphs=graphs)\n",
    "\n",
    "train_gen = gen.flow(\n",
    "    list(train_graphs.index - 1),\n",
    "    targets=train_graphs.values,\n",
    "    batch_size=50,\n",
    "    symmetric_normalization=False,\n",
    ")\n",
    "\n",
    "test_gen = gen.flow(\n",
    "    list(test_graphs.index - 1),\n",
    "    targets=test_graphs.values,\n",
    "    batch_size=1,\n",
    "    symmetric_normalization=False,\n",
    ")"
   ]
  },
  {
   "cell_type": "code",
   "execution_count": 91,
   "metadata": {},
   "outputs": [
    {
     "name": "stdout",
     "output_type": "stream",
     "text": [
      "WARNING:tensorflow:sample_weight modes were coerced from\n",
      "  ...\n",
      "    to  \n",
      "  ['...']\n",
      "WARNING:tensorflow:sample_weight modes were coerced from\n",
      "  ...\n",
      "    to  \n",
      "  ['...']\n",
      "Train for 42 steps, validate for 233 steps\n",
      "Epoch 1/100\n"
     ]
    },
    {
     "name": "stderr",
     "output_type": "stream",
     "text": [
      "/Users/maria/anaconda3/lib/python3.7/site-packages/tensorflow_core/python/framework/indexed_slices.py:433: UserWarning: Converting sparse IndexedSlices to a dense Tensor of unknown shape. This may consume a large amount of memory.\n",
      "  \"Converting sparse IndexedSlices to a dense Tensor of unknown shape. \"\n",
      "/Users/maria/anaconda3/lib/python3.7/site-packages/tensorflow_core/python/framework/indexed_slices.py:433: UserWarning: Converting sparse IndexedSlices to a dense Tensor of unknown shape. This may consume a large amount of memory.\n",
      "  \"Converting sparse IndexedSlices to a dense Tensor of unknown shape. \"\n"
     ]
    },
    {
     "name": "stdout",
     "output_type": "stream",
     "text": [
      "42/42 [==============================] - 3s 77ms/step - loss: 0.4796 - acc: 0.8047 - val_loss: 0.3492 - val_acc: 0.8841\n",
      "Epoch 2/100\n",
      "42/42 [==============================] - 2s 40ms/step - loss: 0.3808 - acc: 0.8840 - val_loss: 0.3455 - val_acc: 0.8841\n",
      "Epoch 3/100\n",
      "42/42 [==============================] - 2s 39ms/step - loss: 0.3789 - acc: 0.8840 - val_loss: 0.3448 - val_acc: 0.8841\n",
      "Epoch 4/100\n",
      "42/42 [==============================] - 2s 39ms/step - loss: 0.3732 - acc: 0.8840 - val_loss: 0.3450 - val_acc: 0.8841\n",
      "Epoch 5/100\n",
      "42/42 [==============================] - 2s 39ms/step - loss: 0.3675 - acc: 0.8840 - val_loss: 0.3440 - val_acc: 0.8841\n",
      "Epoch 6/100\n",
      "42/42 [==============================] - 2s 41ms/step - loss: 0.3607 - acc: 0.8840 - val_loss: 0.3446 - val_acc: 0.8841\n",
      "Epoch 7/100\n",
      "42/42 [==============================] - 2s 42ms/step - loss: 0.3661 - acc: 0.8840 - val_loss: 0.3444 - val_acc: 0.8841\n",
      "Epoch 8/100\n",
      "42/42 [==============================] - 2s 42ms/step - loss: 0.3658 - acc: 0.8840 - val_loss: 0.3446 - val_acc: 0.8841\n",
      "Epoch 9/100\n",
      "42/42 [==============================] - 2s 40ms/step - loss: 0.3615 - acc: 0.8840 - val_loss: 0.3452 - val_acc: 0.8841\n",
      "Epoch 10/100\n",
      "42/42 [==============================] - 2s 39ms/step - loss: 0.3621 - acc: 0.8840 - val_loss: 0.3457 - val_acc: 0.8841\n",
      "Epoch 11/100\n",
      "42/42 [==============================] - 2s 39ms/step - loss: 0.3635 - acc: 0.8840 - val_loss: 0.3472 - val_acc: 0.8841\n",
      "Epoch 12/100\n",
      "42/42 [==============================] - 2s 39ms/step - loss: 0.3597 - acc: 0.8840 - val_loss: 0.3447 - val_acc: 0.8841\n",
      "Epoch 13/100\n",
      "42/42 [==============================] - 2s 40ms/step - loss: 0.3635 - acc: 0.8840 - val_loss: 0.3449 - val_acc: 0.8841\n",
      "Epoch 14/100\n",
      "42/42 [==============================] - 2s 39ms/step - loss: 0.3553 - acc: 0.8840 - val_loss: 0.3458 - val_acc: 0.8841\n",
      "Epoch 15/100\n",
      "42/42 [==============================] - 2s 41ms/step - loss: 0.3613 - acc: 0.8840 - val_loss: 0.3455 - val_acc: 0.8841\n",
      "Epoch 16/100\n",
      "42/42 [==============================] - 2s 41ms/step - loss: 0.3562 - acc: 0.8840 - val_loss: 0.3507 - val_acc: 0.8841\n",
      "Epoch 17/100\n",
      "42/42 [==============================] - 2s 39ms/step - loss: 0.3572 - acc: 0.8840 - val_loss: 0.3454 - val_acc: 0.8841\n",
      "Epoch 18/100\n",
      "42/42 [==============================] - 2s 39ms/step - loss: 0.3622 - acc: 0.8840 - val_loss: 0.3450 - val_acc: 0.8841\n",
      "Epoch 19/100\n",
      "42/42 [==============================] - 2s 39ms/step - loss: 0.3506 - acc: 0.8840 - val_loss: 0.3455 - val_acc: 0.8841\n",
      "Epoch 20/100\n",
      "42/42 [==============================] - 2s 39ms/step - loss: 0.3627 - acc: 0.8840 - val_loss: 0.3445 - val_acc: 0.8841\n",
      "Epoch 21/100\n",
      "42/42 [==============================] - 2s 39ms/step - loss: 0.3579 - acc: 0.8840 - val_loss: 0.3448 - val_acc: 0.8841\n",
      "Epoch 22/100\n",
      "42/42 [==============================] - 2s 39ms/step - loss: 0.3548 - acc: 0.8840 - val_loss: 0.3450 - val_acc: 0.8841\n",
      "Epoch 23/100\n",
      "42/42 [==============================] - 2s 39ms/step - loss: 0.3545 - acc: 0.8840 - val_loss: 0.3421 - val_acc: 0.8841\n",
      "Epoch 24/100\n",
      "42/42 [==============================] - 2s 39ms/step - loss: 0.3612 - acc: 0.8840 - val_loss: 0.3448 - val_acc: 0.8841\n",
      "Epoch 25/100\n",
      "42/42 [==============================] - 2s 41ms/step - loss: 0.3593 - acc: 0.8840 - val_loss: 0.3432 - val_acc: 0.8841\n",
      "Epoch 26/100\n",
      "42/42 [==============================] - 2s 41ms/step - loss: 0.3558 - acc: 0.8840 - val_loss: 0.3439 - val_acc: 0.8841\n",
      "Epoch 27/100\n",
      "42/42 [==============================] - 2s 39ms/step - loss: 0.3504 - acc: 0.8840 - val_loss: 0.3421 - val_acc: 0.8841\n",
      "Epoch 28/100\n",
      "42/42 [==============================] - 2s 39ms/step - loss: 0.3565 - acc: 0.8840 - val_loss: 0.3448 - val_acc: 0.8841\n",
      "Epoch 29/100\n",
      "42/42 [==============================] - 2s 39ms/step - loss: 0.3545 - acc: 0.8840 - val_loss: 0.3426 - val_acc: 0.8841\n",
      "Epoch 30/100\n",
      "42/42 [==============================] - 2s 39ms/step - loss: 0.3559 - acc: 0.8840 - val_loss: 0.3422 - val_acc: 0.8841\n",
      "Epoch 31/100\n",
      "42/42 [==============================] - 2s 39ms/step - loss: 0.3510 - acc: 0.8840 - val_loss: 0.3463 - val_acc: 0.8841\n",
      "Epoch 32/100\n",
      "42/42 [==============================] - 2s 39ms/step - loss: 0.3572 - acc: 0.8840 - val_loss: 0.3433 - val_acc: 0.8841\n",
      "Epoch 33/100\n",
      "42/42 [==============================] - 2s 39ms/step - loss: 0.3562 - acc: 0.8840 - val_loss: 0.3422 - val_acc: 0.8841\n",
      "Epoch 34/100\n",
      "42/42 [==============================] - 2s 39ms/step - loss: 0.3562 - acc: 0.8840 - val_loss: 0.3411 - val_acc: 0.8841\n",
      "Epoch 35/100\n",
      "42/42 [==============================] - 2s 39ms/step - loss: 0.3510 - acc: 0.8840 - val_loss: 0.3413 - val_acc: 0.8841\n",
      "Epoch 36/100\n",
      "42/42 [==============================] - 2s 39ms/step - loss: 0.3513 - acc: 0.8840 - val_loss: 0.3421 - val_acc: 0.8841\n",
      "Epoch 37/100\n",
      "42/42 [==============================] - 2s 42ms/step - loss: 0.3540 - acc: 0.8840 - val_loss: 0.3415 - val_acc: 0.8841\n",
      "Epoch 38/100\n",
      "42/42 [==============================] - 2s 42ms/step - loss: 0.3563 - acc: 0.8840 - val_loss: 0.3409 - val_acc: 0.8841\n",
      "Epoch 39/100\n",
      "42/42 [==============================] - 2s 43ms/step - loss: 0.3535 - acc: 0.8840 - val_loss: 0.3416 - val_acc: 0.8841\n",
      "Epoch 40/100\n",
      "42/42 [==============================] - 2s 43ms/step - loss: 0.3508 - acc: 0.8840 - val_loss: 0.3403 - val_acc: 0.8841\n",
      "Epoch 41/100\n",
      "42/42 [==============================] - 2s 41ms/step - loss: 0.3563 - acc: 0.8840 - val_loss: 0.3418 - val_acc: 0.8841\n",
      "Epoch 42/100\n",
      "42/42 [==============================] - 2s 40ms/step - loss: 0.3518 - acc: 0.8840 - val_loss: 0.3404 - val_acc: 0.8841\n",
      "Epoch 43/100\n",
      "42/42 [==============================] - 2s 40ms/step - loss: 0.3516 - acc: 0.8840 - val_loss: 0.3410 - val_acc: 0.8841\n",
      "Epoch 44/100\n",
      "42/42 [==============================] - 2s 40ms/step - loss: 0.3480 - acc: 0.8840 - val_loss: 0.3399 - val_acc: 0.8841\n",
      "Epoch 45/100\n",
      "42/42 [==============================] - 2s 47ms/step - loss: 0.3528 - acc: 0.8840 - val_loss: 0.3412 - val_acc: 0.8841\n",
      "Epoch 46/100\n",
      "42/42 [==============================] - 2s 44ms/step - loss: 0.3487 - acc: 0.8840 - val_loss: 0.3415 - val_acc: 0.8841\n",
      "Epoch 47/100\n",
      "42/42 [==============================] - 2s 45ms/step - loss: 0.3518 - acc: 0.8840 - val_loss: 0.3407 - val_acc: 0.8841\n",
      "Epoch 48/100\n",
      "42/42 [==============================] - 2s 42ms/step - loss: 0.3526 - acc: 0.8840 - val_loss: 0.3418 - val_acc: 0.8841\n",
      "Epoch 49/100\n",
      "42/42 [==============================] - 2s 46ms/step - loss: 0.3536 - acc: 0.8840 - val_loss: 0.3414 - val_acc: 0.8841\n",
      "Epoch 50/100\n",
      "42/42 [==============================] - 2s 41ms/step - loss: 0.3505 - acc: 0.8840 - val_loss: 0.3409 - val_acc: 0.8841\n",
      "Epoch 51/100\n",
      "42/42 [==============================] - 2s 40ms/step - loss: 0.3505 - acc: 0.8840 - val_loss: 0.3384 - val_acc: 0.8841\n",
      "Epoch 52/100\n",
      "42/42 [==============================] - 2s 39ms/step - loss: 0.3522 - acc: 0.8840 - val_loss: 0.3402 - val_acc: 0.8841\n",
      "Epoch 53/100\n",
      "42/42 [==============================] - 2s 40ms/step - loss: 0.3517 - acc: 0.8840 - val_loss: 0.3395 - val_acc: 0.8841\n",
      "Epoch 54/100\n",
      "42/42 [==============================] - 2s 40ms/step - loss: 0.3509 - acc: 0.8840 - val_loss: 0.3393 - val_acc: 0.8841\n",
      "Epoch 55/100\n",
      "42/42 [==============================] - 2s 39ms/step - loss: 0.3487 - acc: 0.8840 - val_loss: 0.3412 - val_acc: 0.8841\n",
      "Epoch 56/100\n",
      "42/42 [==============================] - 2s 40ms/step - loss: 0.3527 - acc: 0.8840 - val_loss: 0.3391 - val_acc: 0.8841\n",
      "Epoch 57/100\n",
      "42/42 [==============================] - 2s 40ms/step - loss: 0.3493 - acc: 0.8840 - val_loss: 0.3378 - val_acc: 0.8841\n",
      "Epoch 58/100\n",
      "42/42 [==============================] - 2s 40ms/step - loss: 0.3565 - acc: 0.8840 - val_loss: 0.3382 - val_acc: 0.8841\n",
      "Epoch 59/100\n",
      "42/42 [==============================] - 2s 41ms/step - loss: 0.3532 - acc: 0.8840 - val_loss: 0.3388 - val_acc: 0.8841\n",
      "Epoch 60/100\n",
      "42/42 [==============================] - 2s 42ms/step - loss: 0.3530 - acc: 0.8840 - val_loss: 0.3384 - val_acc: 0.8841\n",
      "Epoch 61/100\n",
      "42/42 [==============================] - 2s 40ms/step - loss: 0.3494 - acc: 0.8840 - val_loss: 0.3380 - val_acc: 0.8841\n",
      "Epoch 62/100\n",
      "42/42 [==============================] - 2s 40ms/step - loss: 0.3539 - acc: 0.8840 - val_loss: 0.3452 - val_acc: 0.8841\n"
     ]
    },
    {
     "name": "stdout",
     "output_type": "stream",
     "text": [
      "Epoch 63/100\n",
      "42/42 [==============================] - 2s 39ms/step - loss: 0.3516 - acc: 0.8840 - val_loss: 0.3372 - val_acc: 0.8841\n",
      "Epoch 64/100\n",
      "42/42 [==============================] - 2s 39ms/step - loss: 0.3499 - acc: 0.8840 - val_loss: 0.3375 - val_acc: 0.8841\n",
      "Epoch 65/100\n",
      "42/42 [==============================] - 2s 39ms/step - loss: 0.3483 - acc: 0.8840 - val_loss: 0.3377 - val_acc: 0.8841\n",
      "Epoch 66/100\n",
      "42/42 [==============================] - 2s 40ms/step - loss: 0.3473 - acc: 0.8840 - val_loss: 0.3380 - val_acc: 0.8841\n",
      "Epoch 67/100\n",
      "42/42 [==============================] - 2s 39ms/step - loss: 0.3486 - acc: 0.8840 - val_loss: 0.3376 - val_acc: 0.8841\n",
      "Epoch 68/100\n",
      "42/42 [==============================] - 2s 39ms/step - loss: 0.3555 - acc: 0.8840 - val_loss: 0.3380 - val_acc: 0.8841\n",
      "Epoch 69/100\n",
      "42/42 [==============================] - 2s 39ms/step - loss: 0.3544 - acc: 0.8840 - val_loss: 0.3376 - val_acc: 0.8841\n",
      "Epoch 70/100\n",
      "42/42 [==============================] - 2s 39ms/step - loss: 0.3488 - acc: 0.8840 - val_loss: 0.3352 - val_acc: 0.8841\n",
      "Epoch 71/100\n",
      "42/42 [==============================] - 2s 39ms/step - loss: 0.3492 - acc: 0.8840 - val_loss: 0.3368 - val_acc: 0.8841\n",
      "Epoch 72/100\n",
      "42/42 [==============================] - 2s 40ms/step - loss: 0.3544 - acc: 0.8840 - val_loss: 0.3361 - val_acc: 0.8841\n",
      "Epoch 73/100\n",
      "42/42 [==============================] - 2s 41ms/step - loss: 0.3547 - acc: 0.8840 - val_loss: 0.3359 - val_acc: 0.8841\n",
      "Epoch 74/100\n",
      "42/42 [==============================] - 2s 42ms/step - loss: 0.3456 - acc: 0.8840 - val_loss: 0.3358 - val_acc: 0.8841\n",
      "Epoch 75/100\n",
      "42/42 [==============================] - 2s 39ms/step - loss: 0.3489 - acc: 0.8840 - val_loss: 0.3350 - val_acc: 0.8841\n",
      "Epoch 76/100\n",
      "42/42 [==============================] - 2s 39ms/step - loss: 0.3484 - acc: 0.8844 - val_loss: 0.3387 - val_acc: 0.8841\n",
      "Epoch 77/100\n",
      "42/42 [==============================] - 2s 39ms/step - loss: 0.3490 - acc: 0.8840 - val_loss: 0.3375 - val_acc: 0.8841\n",
      "Epoch 78/100\n",
      "42/42 [==============================] - 2s 39ms/step - loss: 0.3515 - acc: 0.8840 - val_loss: 0.3393 - val_acc: 0.8841\n",
      "Epoch 79/100\n",
      "42/42 [==============================] - 2s 39ms/step - loss: 0.3512 - acc: 0.8840 - val_loss: 0.3377 - val_acc: 0.8841\n",
      "Epoch 80/100\n",
      "42/42 [==============================] - 2s 38ms/step - loss: 0.3482 - acc: 0.8840 - val_loss: 0.3362 - val_acc: 0.8841\n",
      "Epoch 81/100\n",
      "42/42 [==============================] - 2s 39ms/step - loss: 0.3484 - acc: 0.8840 - val_loss: 0.3370 - val_acc: 0.8841\n",
      "Epoch 82/100\n",
      "42/42 [==============================] - 2s 39ms/step - loss: 0.3472 - acc: 0.8840 - val_loss: 0.3372 - val_acc: 0.8841\n",
      "Epoch 83/100\n",
      "42/42 [==============================] - 2s 39ms/step - loss: 0.3483 - acc: 0.8840 - val_loss: 0.3367 - val_acc: 0.8841\n",
      "Epoch 84/100\n",
      "42/42 [==============================] - 2s 39ms/step - loss: 0.3480 - acc: 0.8840 - val_loss: 0.3359 - val_acc: 0.8841\n",
      "Epoch 85/100\n",
      "42/42 [==============================] - 2s 41ms/step - loss: 0.3475 - acc: 0.8840 - val_loss: 0.3349 - val_acc: 0.8841\n",
      "Epoch 86/100\n",
      "42/42 [==============================] - 2s 40ms/step - loss: 0.3491 - acc: 0.8840 - val_loss: 0.3360 - val_acc: 0.8841\n",
      "Epoch 87/100\n",
      "42/42 [==============================] - 2s 39ms/step - loss: 0.3477 - acc: 0.8840 - val_loss: 0.3342 - val_acc: 0.8841\n",
      "Epoch 88/100\n",
      "42/42 [==============================] - 2s 39ms/step - loss: 0.3465 - acc: 0.8840 - val_loss: 0.3340 - val_acc: 0.8841\n",
      "Epoch 89/100\n",
      "42/42 [==============================] - 2s 39ms/step - loss: 0.3498 - acc: 0.8840 - val_loss: 0.3348 - val_acc: 0.8841\n",
      "Epoch 90/100\n",
      "42/42 [==============================] - 2s 39ms/step - loss: 0.3503 - acc: 0.8840 - val_loss: 0.3354 - val_acc: 0.8841\n",
      "Epoch 91/100\n",
      "42/42 [==============================] - 2s 39ms/step - loss: 0.3497 - acc: 0.8840 - val_loss: 0.3353 - val_acc: 0.8841\n",
      "Epoch 92/100\n",
      "42/42 [==============================] - 2s 39ms/step - loss: 0.3519 - acc: 0.8840 - val_loss: 0.3357 - val_acc: 0.8841\n",
      "Epoch 93/100\n",
      "42/42 [==============================] - 2s 39ms/step - loss: 0.3492 - acc: 0.8840 - val_loss: 0.3335 - val_acc: 0.8841\n",
      "Epoch 94/100\n",
      "42/42 [==============================] - 2s 39ms/step - loss: 0.3446 - acc: 0.8840 - val_loss: 0.3366 - val_acc: 0.8841\n",
      "Epoch 95/100\n",
      "42/42 [==============================] - 2s 39ms/step - loss: 0.3483 - acc: 0.8844 - val_loss: 0.3395 - val_acc: 0.8841\n",
      "Epoch 96/100\n",
      "42/42 [==============================] - 2s 39ms/step - loss: 0.3491 - acc: 0.8840 - val_loss: 0.3351 - val_acc: 0.8841\n",
      "Epoch 97/100\n",
      "42/42 [==============================] - 2s 40ms/step - loss: 0.3485 - acc: 0.8840 - val_loss: 0.3335 - val_acc: 0.8841\n",
      "Epoch 98/100\n",
      "42/42 [==============================] - 2s 41ms/step - loss: 0.3518 - acc: 0.8840 - val_loss: 0.3336 - val_acc: 0.8841\n",
      "Epoch 99/100\n",
      "42/42 [==============================] - 2s 41ms/step - loss: 0.3475 - acc: 0.8840 - val_loss: 0.3342 - val_acc: 0.8841\n",
      "Epoch 100/100\n",
      "42/42 [==============================] - 2s 41ms/step - loss: 0.3451 - acc: 0.8840 - val_loss: 0.3331 - val_acc: 0.8841\n"
     ]
    }
   ],
   "source": [
    "epochs = 100\n",
    "history = model.fit(\n",
    "    train_gen, epochs=epochs, verbose=1, validation_data=test_gen, shuffle=True,\n",
    ")"
   ]
  },
  {
   "cell_type": "code",
   "execution_count": 92,
   "metadata": {},
   "outputs": [
    {
     "data": {
      "image/png": "[encoded data removed]",
      "text/plain": [
       "<Figure size 504x576 with 2 Axes>"
      ]
     },
     "metadata": {
      "needs_background": "light"
     },
     "output_type": "display_data"
    }
   ],
   "source": [
    "sg.utils.plot_history(history)"
   ]
  },
  {
   "cell_type": "code",
   "execution_count": 93,
   "metadata": {},
   "outputs": [],
   "source": [
    "test_gen_off = PaddedGraphGenerator(graphs=test_graphs_off)\n",
    "test_gen_off_f = test_gen_off.flow(graphs=test_graphs_off)\n",
    "preds = model.predict(test_gen_off_f)"
   ]
  },
  {
   "cell_type": "code",
   "execution_count": 94,
   "metadata": {},
   "outputs": [
    {
     "data": {
      "text/plain": [
       "(array([ 22.,  72., 611., 248.,  78.,  47.,  19.,  21.,  30.,  17.]),\n",
       " array([0.02340826, 0.06282817, 0.10224808, 0.14166799, 0.1810879 ,\n",
       "        0.22050782, 0.25992772, 0.29934764, 0.33876756, 0.37818745,\n",
       "        0.41760737], dtype=float32),\n",
       " <a list of 10 Patch objects>)"
      ]
     },
     "execution_count": 94,
     "metadata": {},
     "output_type": "execute_result"
    },
    {
     "data": {
      "image/png": "[encoded data removed]",
      "text/plain": [
       "<Figure size 432x288 with 1 Axes>"
      ]
     },
     "metadata": {
      "needs_background": "light"
     },
     "output_type": "display_data"
    }
   ],
   "source": [
    "import matplotlib.pyplot as plt\n",
    "plt.hist(preds)"
   ]
  },
  {
   "cell_type": "code",
   "execution_count": 95,
   "metadata": {},
   "outputs": [
    {
     "name": "stdout",
     "output_type": "stream",
     "text": [
      "[[0.12391277]\n",
      " [0.13464499]\n",
      " [0.16950193]\n",
      " ...\n",
      " [0.25458154]\n",
      " [0.14482737]\n",
      " [0.11278567]]\n"
     ]
    }
   ],
   "source": [
    "print(preds)"
   ]
  },
  {
   "cell_type": "code",
   "execution_count": null,
   "metadata": {},
   "outputs": [],
   "source": [
    "# Sources\n",
    "\n",
    "# https://stellargraph.readthedocs.io/en/stable/demos/graph-classification/dgcnn-graph-classification.html"
   ]
  }
 ],
 "metadata": {
  "kernelspec": {
   "display_name": "Python 3",
   "language": "python",
   "name": "python3"
  },
  "language_info": {
   "codemirror_mode": {
    "name": "ipython",
    "version": 3
   },
   "file_extension": ".py",
   "mimetype": "text/x-python",
   "name": "python",
   "nbconvert_exporter": "python",
   "pygments_lexer": "ipython3",
   "version": "3.7.3"
  }
 },
 "nbformat": 4,
 "nbformat_minor": 2
}
