{
 "cells": [
  {
   "cell_type": "code",
   "execution_count": 1,
   "metadata": {},
   "outputs": [],
   "source": [
    "import pandas as pd\n",
    "from sklearn.discriminant_analysis import LinearDiscriminantAnalysis\n",
    "from sklearn.model_selection import train_test_split \n",
    "from sklearn import metrics \n",
    "from tabulate import tabulate\n",
    "from sklearn.metrics import confusion_matrix\n",
    "from sklearn.preprocessing import StandardScaler\n",
    "from sklearn.model_selection import cross_val_score\n",
    "from sklearn.model_selection import RepeatedStratifiedKFold\n",
    "from sklearn.pipeline import Pipeline\n",
    "from sklearn.model_selection import GridSearchCV\n",
    "import seaborn as sns\n",
    "import csv\n",
    "from datetime import datetime\n",
    "import openpyxl as op"
   ]
  },
  {
   "cell_type": "markdown",
   "metadata": {},
   "source": [
    "# Data import (labeled and unlabeled)"
   ]
  },
  {
   "cell_type": "markdown",
   "metadata": {},
   "source": [
    "### Import data and add labels"
   ]
  },
  {
   "cell_type": "code",
   "execution_count": 2,
   "metadata": {},
   "outputs": [],
   "source": [
    "corona_5g = pd.read_csv(\"~/Desktop/twitterAnalysis/FakeNews/dataset/graphs/5g_corona_conspiracy/feature_df_5g_corona_conspiracy.csv\")\n",
    "corona_5g['label'] = 'corona_5g'\n",
    "corona_5g['conspiracy'] = '1'\n",
    "\n",
    "non_conspiracy = pd.read_csv(\"~/Desktop/twitterAnalysis/FakeNews/dataset/graphs/non_conspiracy/feature_df_non_conspiracy.csv\")\n",
    "non_conspiracy['label'] = 'non_conspiracy'\n",
    "non_conspiracy['conspiracy'] = '0'\n",
    "\n",
    "other_conspiracy = pd.read_csv(\"~/Desktop/twitterAnalysis/FakeNews/dataset/graphs/other_conspiracy/feature_df_other_conspiracy.csv\")\n",
    "other_conspiracy['label'] = 'other_conspiracy'\n",
    "other_conspiracy['conspiracy'] = '0'\n",
    "\n",
    "all_data = corona_5g.append(non_conspiracy)\n",
    "all_data = all_data.append(other_conspiracy)\n",
    "\n",
    "all_data = all_data.dropna()"
   ]
  },
  {
   "cell_type": "markdown",
   "metadata": {},
   "source": [
    "### Split into train and test sets"
   ]
  },
  {
   "cell_type": "code",
   "execution_count": 3,
   "metadata": {},
   "outputs": [
    {
     "name": "stderr",
     "output_type": "stream",
     "text": [
      "/Users/maria/anaconda3/lib/python3.7/site-packages/sklearn/preprocessing/data.py:645: DataConversionWarning: Data with input dtype int64, float64 were all converted to float64 by StandardScaler.\n",
      "  return self.partial_fit(X, y)\n",
      "/Users/maria/anaconda3/lib/python3.7/site-packages/sklearn/base.py:464: DataConversionWarning: Data with input dtype int64, float64 were all converted to float64 by StandardScaler.\n",
      "  return self.fit(X, **fit_params).transform(X)\n"
     ]
    }
   ],
   "source": [
    "x_unprocessed = all_data[all_data.columns[0:18]]\n",
    "x = StandardScaler().fit_transform(x_unprocessed)\n",
    "y = all_data[all_data.columns[19]]\n",
    "\n",
    "x_train, x_test, y_train, y_test = train_test_split(x, y, test_size=0.2, random_state=1)"
   ]
  },
  {
   "cell_type": "markdown",
   "metadata": {},
   "source": [
    "### Import unlabeled test data"
   ]
  },
  {
   "cell_type": "code",
   "execution_count": 4,
   "metadata": {},
   "outputs": [
    {
     "name": "stderr",
     "output_type": "stream",
     "text": [
      "/Users/maria/anaconda3/lib/python3.7/site-packages/sklearn/preprocessing/data.py:645: DataConversionWarning: Data with input dtype int64, float64 were all converted to float64 by StandardScaler.\n",
      "  return self.partial_fit(X, y)\n",
      "/Users/maria/anaconda3/lib/python3.7/site-packages/sklearn/base.py:464: DataConversionWarning: Data with input dtype int64, float64 were all converted to float64 by StandardScaler.\n",
      "  return self.fit(X, **fit_params).transform(X)\n"
     ]
    }
   ],
   "source": [
    "official_test = pd.read_csv(\"/Users/maria/Desktop/twitterAnalysis/FakeNews/dataset/graphs/test_graphs/feature_df_test.csv\")\n",
    "official_test_complete = official_test.dropna()\n",
    "official_test_complete_std = StandardScaler().fit_transform(official_test_complete)"
   ]
  },
  {
   "cell_type": "markdown",
   "metadata": {},
   "source": [
    "# Model training"
   ]
  },
  {
   "cell_type": "markdown",
   "metadata": {},
   "source": [
    "### Run LDA with cross-fold validation using SVD"
   ]
  },
  {
   "cell_type": "code",
   "execution_count": 5,
   "metadata": {},
   "outputs": [
    {
     "name": "stdout",
     "output_type": "stream",
     "text": [
      "Overall accuracy: 0.8956521739130435 \n",
      "\n",
      "MCC: 0.06981698999765348 \n",
      "\n",
      "Label             Precision     Recall    F-score    Support\n",
      "--------------  -----------  ---------  ---------  ---------\n",
      "non-conspiracy      0.90708  0.985577   0.9447           416\n",
      "conspiracy          0.25     0.0454545  0.0769231         44\n"
     ]
    },
    {
     "name": "stderr",
     "output_type": "stream",
     "text": [
      "/Users/maria/anaconda3/lib/python3.7/site-packages/sklearn/discriminant_analysis.py:388: UserWarning: Variables are collinear.\n",
      "  warnings.warn(\"Variables are collinear.\")\n"
     ]
    }
   ],
   "source": [
    "clf = LinearDiscriminantAnalysis()\n",
    "clf.fit(x_train, y_train)\n",
    "y_pred = clf.predict(x_test)\n",
    "\n",
    "precision, recall, fscore, support = metrics.precision_recall_fscore_support(y_test, y_pred)\n",
    "labels = ['non-conspiracy', 'conspiracy']\n",
    "acc = metrics.accuracy_score(y_test, y_pred)\n",
    "mcc = metrics.matthews_corrcoef(y_test, y_pred)\n",
    "prec = metrics.precision_score(y_test, y_pred, average='macro')\n",
    "rec = metrics.recall_score(y_test, y_pred, average='macro')\n",
    "print(\"Overall accuracy:\",metrics.accuracy_score(y_test, y_pred), '\\n')\n",
    "print(\"MCC: \" + str(mcc), '\\n')\n",
    "print(tabulate({\"Label\": labels,\n",
    "               \"Precision\": precision,\n",
    "               \"Recall\": recall,\n",
    "               \"F-score\": fscore,\n",
    "               \"Support\": support}, headers=\"keys\"))\n",
    "workbook = op.load_workbook(\"/Users/maria/Desktop/twitterAnalysis/FakeNews/scripts/graphs/model_summary.xlsx\")\n",
    "worksheet = workbook.worksheets[0]\n",
    "row_n = worksheet.max_row+1\n",
    "worksheet.cell(row=row_n, column=1).value = 'LDA_SVD_coarse'\n",
    "worksheet.cell(row=row_n, column=2).value = 'LDA'\n",
    "worksheet.cell(row=row_n, column=3).value = 'Structural Data'\n",
    "worksheet.cell(row=row_n, column=4).value = 'Coarse'\n",
    "worksheet.cell(row=row_n, column=5).value = mcc\n",
    "worksheet.cell(row=row_n, column=6).value = acc\n",
    "worksheet.cell(row=row_n, column=7).value = prec\n",
    "worksheet.cell(row=row_n, column=8).value = rec\n",
    "worksheet.cell(row=row_n, column=9).value = datetime.now()\n",
    "workbook.save('/Users/maria/Desktop/twitterAnalysis/FakeNews/scripts/graphs/model_summary.xlsx')"
   ]
  },
  {
   "cell_type": "code",
   "execution_count": 6,
   "metadata": {},
   "outputs": [
    {
     "name": "stderr",
     "output_type": "stream",
     "text": [
      "/Users/maria/anaconda3/lib/python3.7/site-packages/ipykernel_launcher.py:1: SettingWithCopyWarning: \n",
      "A value is trying to be set on a copy of a slice from a DataFrame.\n",
      "Try using .loc[row_indexer,col_indexer] = value instead\n",
      "\n",
      "See the caveats in the documentation: http://pandas.pydata.org/pandas-docs/stable/indexing.html#indexing-view-versus-copy\n",
      "  \"\"\"Entry point for launching an IPython kernel.\n"
     ]
    }
   ],
   "source": [
    "official_test_complete['label'] = clf.predict(official_test_complete_std)\n",
    "official_test_all = pd.concat([official_test, official_test_complete], axis=1)\n",
    "labels = official_test_all['label']\n",
    "labels.to_csv('LDA_SVD_coarse.csv', header=False)"
   ]
  },
  {
   "cell_type": "markdown",
   "metadata": {},
   "source": [
    "### Run LDA with cross-fold validation using lsqr"
   ]
  },
  {
   "cell_type": "code",
   "execution_count": 7,
   "metadata": {},
   "outputs": [
    {
     "name": "stdout",
     "output_type": "stream",
     "text": [
      "Overall accuracy: 0.8956521739130435 \n",
      "\n",
      "MCC: 0.06981698999765348 \n",
      "\n",
      "Label             Precision     Recall    F-score    Support\n",
      "--------------  -----------  ---------  ---------  ---------\n",
      "non-conspiracy      0.90708  0.985577   0.9447           416\n",
      "conspiracy          0.25     0.0454545  0.0769231         44\n"
     ]
    }
   ],
   "source": [
    "clf = LinearDiscriminantAnalysis(solver='lsqr')\n",
    "clf.fit(x_train, y_train)\n",
    "y_pred = clf.predict(x_test)\n",
    "\n",
    "precision, recall, fscore, support = metrics.precision_recall_fscore_support(y_test, y_pred)\n",
    "labels = ['non-conspiracy', 'conspiracy']\n",
    "acc = metrics.accuracy_score(y_test, y_pred)\n",
    "mcc = metrics.matthews_corrcoef(y_test, y_pred)\n",
    "prec = metrics.precision_score(y_test, y_pred, average='macro')\n",
    "rec = metrics.recall_score(y_test, y_pred, average='macro')\n",
    "print(\"Overall accuracy:\",metrics.accuracy_score(y_test, y_pred), '\\n')\n",
    "print(\"MCC: \" + str(mcc), '\\n')\n",
    "print(tabulate({\"Label\": labels,\n",
    "               \"Precision\": precision,\n",
    "               \"Recall\": recall,\n",
    "               \"F-score\": fscore,\n",
    "               \"Support\": support}, headers=\"keys\"))\n",
    "workbook = op.load_workbook(\"/Users/maria/Desktop/twitterAnalysis/FakeNews/scripts/graphs/model_summary.xlsx\")\n",
    "worksheet = workbook.worksheets[0]\n",
    "row_n = worksheet.max_row+1\n",
    "worksheet.cell(row=row_n, column=1).value = 'LDA_LSQR_coarse'\n",
    "worksheet.cell(row=row_n, column=2).value = 'LDA'\n",
    "worksheet.cell(row=row_n, column=3).value = 'Structural Data'\n",
    "worksheet.cell(row=row_n, column=4).value = 'Coarse'\n",
    "worksheet.cell(row=row_n, column=5).value = mcc\n",
    "worksheet.cell(row=row_n, column=6).value = acc\n",
    "worksheet.cell(row=row_n, column=7).value = prec\n",
    "worksheet.cell(row=row_n, column=8).value = rec\n",
    "worksheet.cell(row=row_n, column=9).value = datetime.now()\n",
    "workbook.save('/Users/maria/Desktop/twitterAnalysis/FakeNews/scripts/graphs/model_summary.xlsx')"
   ]
  },
  {
   "cell_type": "code",
   "execution_count": 8,
   "metadata": {},
   "outputs": [
    {
     "name": "stderr",
     "output_type": "stream",
     "text": [
      "/Users/maria/anaconda3/lib/python3.7/site-packages/ipykernel_launcher.py:1: SettingWithCopyWarning: \n",
      "A value is trying to be set on a copy of a slice from a DataFrame.\n",
      "Try using .loc[row_indexer,col_indexer] = value instead\n",
      "\n",
      "See the caveats in the documentation: http://pandas.pydata.org/pandas-docs/stable/indexing.html#indexing-view-versus-copy\n",
      "  \"\"\"Entry point for launching an IPython kernel.\n"
     ]
    }
   ],
   "source": [
    "official_test_complete['label'] = clf.predict(official_test_complete_std)\n",
    "official_test_all = pd.concat([official_test, official_test_complete], axis=1)\n",
    "labels = official_test_all['label']\n",
    "labels.to_csv('LDA_LSQR_coarse.csv', header=False)"
   ]
  },
  {
   "cell_type": "markdown",
   "metadata": {},
   "source": [
    "### Run LDA with cross-fold validation using lsqr and auto shrinkage"
   ]
  },
  {
   "cell_type": "code",
   "execution_count": 9,
   "metadata": {},
   "outputs": [
    {
     "name": "stdout",
     "output_type": "stream",
     "text": [
      "Overall accuracy: 0.8978260869565218 \n",
      "\n",
      "MCC: 0.037191829108863705 \n",
      "\n",
      "Label             Precision     Recall    F-score    Support\n",
      "--------------  -----------  ---------  ---------  ---------\n",
      "non-conspiracy     0.905495  0.990385   0.946039         416\n",
      "conspiracy         0.2       0.0227273  0.0408163         44\n"
     ]
    }
   ],
   "source": [
    "clf = LinearDiscriminantAnalysis(solver='lsqr', shrinkage='auto')\n",
    "clf.fit(x_train, y_train)\n",
    "y_pred = clf.predict(x_test)\n",
    "\n",
    "precision, recall, fscore, support = metrics.precision_recall_fscore_support(y_test, y_pred)\n",
    "labels = ['non-conspiracy', 'conspiracy']\n",
    "acc = metrics.accuracy_score(y_test, y_pred)\n",
    "mcc = metrics.matthews_corrcoef(y_test, y_pred)\n",
    "prec = metrics.precision_score(y_test, y_pred, average='macro')\n",
    "rec = metrics.recall_score(y_test, y_pred, average='macro')\n",
    "print(\"Overall accuracy:\",metrics.accuracy_score(y_test, y_pred), '\\n')\n",
    "print(\"MCC: \" + str(mcc), '\\n')\n",
    "print(tabulate({\"Label\": labels,\n",
    "               \"Precision\": precision,\n",
    "               \"Recall\": recall,\n",
    "               \"F-score\": fscore,\n",
    "               \"Support\": support}, headers=\"keys\"))\n",
    "workbook = op.load_workbook(\"/Users/maria/Desktop/twitterAnalysis/FakeNews/scripts/graphs/model_summary.xlsx\")\n",
    "worksheet = workbook.worksheets[0]\n",
    "row_n = worksheet.max_row+1\n",
    "worksheet.cell(row=row_n, column=1).value = 'LDA_LSQR_shrinkage_coarse'\n",
    "worksheet.cell(row=row_n, column=2).value = 'LDA'\n",
    "worksheet.cell(row=row_n, column=3).value = 'Structural Data'\n",
    "worksheet.cell(row=row_n, column=4).value = 'Coarse'\n",
    "worksheet.cell(row=row_n, column=5).value = mcc\n",
    "worksheet.cell(row=row_n, column=6).value = acc\n",
    "worksheet.cell(row=row_n, column=7).value = prec\n",
    "worksheet.cell(row=row_n, column=8).value = rec\n",
    "worksheet.cell(row=row_n, column=9).value = datetime.now()\n",
    "workbook.save('/Users/maria/Desktop/twitterAnalysis/FakeNews/scripts/graphs/model_summary.xlsx')"
   ]
  },
  {
   "cell_type": "code",
   "execution_count": 10,
   "metadata": {},
   "outputs": [
    {
     "name": "stderr",
     "output_type": "stream",
     "text": [
      "/Users/maria/anaconda3/lib/python3.7/site-packages/ipykernel_launcher.py:1: SettingWithCopyWarning: \n",
      "A value is trying to be set on a copy of a slice from a DataFrame.\n",
      "Try using .loc[row_indexer,col_indexer] = value instead\n",
      "\n",
      "See the caveats in the documentation: http://pandas.pydata.org/pandas-docs/stable/indexing.html#indexing-view-versus-copy\n",
      "  \"\"\"Entry point for launching an IPython kernel.\n"
     ]
    }
   ],
   "source": [
    "official_test_complete['label'] = clf.predict(official_test_complete_std)\n",
    "official_test_all = pd.concat([official_test, official_test_complete], axis=1)\n",
    "labels = official_test_all['label']\n",
    "labels.to_csv('LDA_LSQR_shrinkage_coarse.csv', header=False)"
   ]
  },
  {
   "cell_type": "code",
   "execution_count": 11,
   "metadata": {},
   "outputs": [],
   "source": [
    "# sources \n",
    "\n",
    "# https://scikit-learn.org/stable/modules/generated/sklearn.discriminant_analysis.LinearDiscriminantAnalysis.html"
   ]
  },
  {
   "cell_type": "code",
   "execution_count": null,
   "metadata": {},
   "outputs": [],
   "source": []
  }
 ],
 "metadata": {
  "kernelspec": {
   "display_name": "Python 3",
   "language": "python",
   "name": "python3"
  },
  "language_info": {
   "codemirror_mode": {
    "name": "ipython",
    "version": 3
   },
   "file_extension": ".py",
   "mimetype": "text/x-python",
   "name": "python",
   "nbconvert_exporter": "python",
   "pygments_lexer": "ipython3",
   "version": "3.7.3"
  }
 },
 "nbformat": 4,
 "nbformat_minor": 2
}
