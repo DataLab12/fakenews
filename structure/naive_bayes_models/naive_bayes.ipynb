{
 "cells": [
  {
   "cell_type": "code",
   "execution_count": 1,
   "metadata": {},
   "outputs": [],
   "source": [
    "import pandas as pd\n",
    "from sklearn.naive_bayes import GaussianNB\n",
    "from sklearn.model_selection import train_test_split \n",
    "from sklearn import metrics \n",
    "from tabulate import tabulate\n",
    "from sklearn.metrics import confusion_matrix\n",
    "import seaborn as sns\n",
    "import csv\n",
    "from datetime import datetime\n",
    "import openpyxl as op"
   ]
  },
  {
   "cell_type": "code",
   "execution_count": 2,
   "metadata": {},
   "outputs": [],
   "source": [
    "# Import data and add labels\n",
    "\n",
    "corona_5g = pd.read_csv(\"~/Desktop/twitterAnalysis/FakeNews/dataset/graphs/5g_corona_conspiracy/feature_df_5g_corona_conspiracy.csv\")\n",
    "corona_5g['label'] = '1'\n",
    "corona_5g['conspiracy'] = '1'\n",
    "\n",
    "non_conspiracy = pd.read_csv(\"~/Desktop/twitterAnalysis/FakeNews/dataset/graphs/non_conspiracy/feature_df_non_conspiracy.csv\")\n",
    "non_conspiracy['label'] = '2'\n",
    "non_conspiracy['conspiracy'] = '0'\n",
    "\n",
    "other_conspiracy = pd.read_csv(\"~/Desktop/twitterAnalysis/FakeNews/dataset/graphs/other_conspiracy/feature_df_other_conspiracy.csv\")\n",
    "other_conspiracy['label'] = '3'\n",
    "other_conspiracy['conspiracy'] = '0'\n",
    "\n",
    "all_data = corona_5g.append(non_conspiracy)\n",
    "all_data = all_data.append(other_conspiracy)\n",
    "\n",
    "all_data = all_data.dropna()"
   ]
  },
  {
   "cell_type": "code",
   "execution_count": 3,
   "metadata": {},
   "outputs": [],
   "source": [
    "# Split into train and test sets\n",
    "\n",
    "x = all_data[all_data.columns[0:18]]\n",
    "y = all_data[all_data.columns[18]]\n",
    "\n",
    "x_train, x_test, y_train, y_test = train_test_split(x, y, test_size=0.2, random_state=1)"
   ]
  },
  {
   "cell_type": "code",
   "execution_count": 4,
   "metadata": {},
   "outputs": [],
   "source": [
    "official_test = pd.read_csv(\"/Users/maria/Desktop/twitterAnalysis/FakeNews/dataset/graphs/test_graphs/feature_df_test.csv\")\n",
    "official_test_complete = official_test.dropna()"
   ]
  },
  {
   "cell_type": "code",
   "execution_count": 5,
   "metadata": {},
   "outputs": [
    {
     "name": "stdout",
     "output_type": "stream",
     "text": [
      "Overall accuracy: 0.691304347826087 \n",
      "\n",
      "MCC: 0.17565564948432624 \n",
      "\n",
      "Label               Precision    Recall    F-score    Support\n",
      "----------------  -----------  --------  ---------  ---------\n",
      "5G-conspiracy        0.272727  0.204545   0.233766         44\n",
      "non-conspiracy       0.75969   0.885542   0.817803        332\n",
      "other-conspiracy     0.375     0.178571   0.241935         84\n"
     ]
    }
   ],
   "source": [
    "# Default Naive Bayes\n",
    "\n",
    "model = GaussianNB()\n",
    "model.fit(x_train, y_train)\n",
    "y_pred = model.predict(x_test) \n",
    "\n",
    "precision, recall, fscore, support = metrics.precision_recall_fscore_support(y_test, y_pred)\n",
    "labels = ['5G-conspiracy', 'non-conspiracy', 'other-conspiracy']\n",
    "acc = metrics.accuracy_score(y_test, y_pred)\n",
    "mcc = metrics.matthews_corrcoef(y_test, y_pred)\n",
    "prec = metrics.precision_score(y_test, y_pred, average='macro')\n",
    "rec = metrics.recall_score(y_test, y_pred, average='macro')\n",
    "print(\"Overall accuracy:\",metrics.accuracy_score(y_test, y_pred), '\\n')\n",
    "print(\"MCC: \" + str(mcc), '\\n')\n",
    "print(tabulate({\"Label\": labels,\n",
    "               \"Precision\": precision,\n",
    "               \"Recall\": recall,\n",
    "               \"F-score\": fscore,\n",
    "               \"Support\": support}, headers=\"keys\"))\n",
    "workbook = op.load_workbook(\"/Users/maria/Desktop/twitterAnalysis/FakeNews/scripts/graphs/model_summary.xlsx\")\n",
    "worksheet = workbook.worksheets[0]\n",
    "row_n = worksheet.max_row+1\n",
    "worksheet.cell(row=row_n, column=1).value = 'naive_bayes'\n",
    "worksheet.cell(row=row_n, column=2).value = 'Naive Bayes'\n",
    "worksheet.cell(row=row_n, column=3).value = 'Structural Data'\n",
    "worksheet.cell(row=row_n, column=4).value = 'Multi-class'\n",
    "worksheet.cell(row=row_n, column=5).value = mcc\n",
    "worksheet.cell(row=row_n, column=6).value = acc\n",
    "worksheet.cell(row=row_n, column=7).value = prec\n",
    "worksheet.cell(row=row_n, column=8).value = rec\n",
    "worksheet.cell(row=row_n, column=9).value = datetime.now()\n",
    "workbook.save('/Users/maria/Desktop/twitterAnalysis/FakeNews/scripts/graphs/model_summary.xlsx')"
   ]
  },
  {
   "cell_type": "code",
   "execution_count": 6,
   "metadata": {},
   "outputs": [
    {
     "name": "stderr",
     "output_type": "stream",
     "text": [
      "/Users/maria/anaconda3/lib/python3.7/site-packages/ipykernel_launcher.py:1: SettingWithCopyWarning: \n",
      "A value is trying to be set on a copy of a slice from a DataFrame.\n",
      "Try using .loc[row_indexer,col_indexer] = value instead\n",
      "\n",
      "See the caveats in the documentation: http://pandas.pydata.org/pandas-docs/stable/indexing.html#indexing-view-versus-copy\n",
      "  \"\"\"Entry point for launching an IPython kernel.\n",
      "/Users/maria/anaconda3/lib/python3.7/site-packages/pandas/core/generic.py:6130: SettingWithCopyWarning: \n",
      "A value is trying to be set on a copy of a slice from a DataFrame\n",
      "\n",
      "See the caveats in the documentation: http://pandas.pydata.org/pandas-docs/stable/indexing.html#indexing-view-versus-copy\n",
      "  self._update_inplace(new_data)\n"
     ]
    }
   ],
   "source": [
    "official_test_complete['label'] = model.predict(official_test_complete)\n",
    "official_test_all = pd.concat([official_test, official_test_complete], axis=1)\n",
    "labels = official_test_all['label']\n",
    "labels.fillna('0', inplace=True)\n",
    "labels.to_csv('naive_bayes.csv', header=False)"
   ]
  },
  {
   "cell_type": "code",
   "execution_count": 7,
   "metadata": {},
   "outputs": [],
   "source": [
    "# Sources\n",
    "\n",
    "# https://www.datacamp.com/community/tutorials/naive-bayes-scikit-learn"
   ]
  },
  {
   "cell_type": "code",
   "execution_count": null,
   "metadata": {},
   "outputs": [],
   "source": []
  }
 ],
 "metadata": {
  "kernelspec": {
   "display_name": "Python 3",
   "language": "python",
   "name": "python3"
  },
  "language_info": {
   "codemirror_mode": {
    "name": "ipython",
    "version": 3
   },
   "file_extension": ".py",
   "mimetype": "text/x-python",
   "name": "python",
   "nbconvert_exporter": "python",
   "pygments_lexer": "ipython3",
   "version": "3.7.3"
  }
 },
 "nbformat": 4,
 "nbformat_minor": 2
}
