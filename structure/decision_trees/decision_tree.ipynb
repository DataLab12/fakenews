{
 "cells": [
  {
   "cell_type": "code",
   "execution_count": 1,
   "metadata": {},
   "outputs": [],
   "source": [
    "import pandas as pd\n",
    "from sklearn.tree import DecisionTreeClassifier \n",
    "from sklearn.model_selection import train_test_split \n",
    "from sklearn import metrics \n",
    "from tabulate import tabulate\n",
    "from sklearn.metrics import confusion_matrix\n",
    "from sklearn.preprocessing import StandardScaler\n",
    "import csv\n",
    "from datetime import datetime\n",
    "import openpyxl as op"
   ]
  },
  {
   "cell_type": "markdown",
   "metadata": {},
   "source": [
    "# Data import (labeled and unlabeled)"
   ]
  },
  {
   "cell_type": "markdown",
   "metadata": {},
   "source": [
    "### Import labeled training and test data"
   ]
  },
  {
   "cell_type": "code",
   "execution_count": 2,
   "metadata": {},
   "outputs": [],
   "source": [
    "corona_5g = pd.read_csv(\"~/Desktop/twitterAnalysis/FakeNews/dataset/graphs/5g_corona_conspiracy/feature_df_5g_corona_conspiracy.csv\")\n",
    "corona_5g['label'] = '1'\n",
    "corona_5g['conspiracy'] = '1'\n",
    "\n",
    "non_conspiracy = pd.read_csv(\"~/Desktop/twitterAnalysis/FakeNews/dataset/graphs/non_conspiracy/feature_df_non_conspiracy.csv\")\n",
    "non_conspiracy['label'] = '2'\n",
    "non_conspiracy['conspiracy'] = '0'\n",
    "\n",
    "other_conspiracy = pd.read_csv(\"~/Desktop/twitterAnalysis/FakeNews/dataset/graphs/other_conspiracy/feature_df_other_conspiracy.csv\")\n",
    "other_conspiracy['label'] = '3'\n",
    "other_conspiracy['conspiracy'] = '0'\n",
    "\n",
    "all_data = corona_5g.append(non_conspiracy)\n",
    "all_data = all_data.append(other_conspiracy)\n",
    "\n",
    "all_data = all_data.dropna()"
   ]
  },
  {
   "cell_type": "markdown",
   "metadata": {},
   "source": [
    "### Split into training and test sets"
   ]
  },
  {
   "cell_type": "code",
   "execution_count": 3,
   "metadata": {},
   "outputs": [
    {
     "name": "stderr",
     "output_type": "stream",
     "text": [
      "/Users/maria/anaconda3/lib/python3.7/site-packages/sklearn/preprocessing/data.py:645: DataConversionWarning: Data with input dtype int64, float64 were all converted to float64 by StandardScaler.\n",
      "  return self.partial_fit(X, y)\n",
      "/Users/maria/anaconda3/lib/python3.7/site-packages/sklearn/base.py:464: DataConversionWarning: Data with input dtype int64, float64 were all converted to float64 by StandardScaler.\n",
      "  return self.fit(X, **fit_params).transform(X)\n"
     ]
    }
   ],
   "source": [
    "x_unprocessed = all_data[all_data.columns[0:18]]\n",
    "x = StandardScaler().fit_transform(x_unprocessed)\n",
    "y = all_data[all_data.columns[18]]\n",
    "\n",
    "x_train, x_test, y_train, y_test = train_test_split(x, y, test_size=0.2, random_state=1)"
   ]
  },
  {
   "cell_type": "markdown",
   "metadata": {},
   "source": [
    "### Import unlabeled test data"
   ]
  },
  {
   "cell_type": "code",
   "execution_count": 4,
   "metadata": {},
   "outputs": [
    {
     "name": "stderr",
     "output_type": "stream",
     "text": [
      "/Users/maria/anaconda3/lib/python3.7/site-packages/sklearn/preprocessing/data.py:645: DataConversionWarning: Data with input dtype int64, float64 were all converted to float64 by StandardScaler.\n",
      "  return self.partial_fit(X, y)\n",
      "/Users/maria/anaconda3/lib/python3.7/site-packages/sklearn/base.py:464: DataConversionWarning: Data with input dtype int64, float64 were all converted to float64 by StandardScaler.\n",
      "  return self.fit(X, **fit_params).transform(X)\n"
     ]
    }
   ],
   "source": [
    "official_test = pd.read_csv(\"/Users/maria/Desktop/twitterAnalysis/FakeNews/dataset/graphs/test_graphs/feature_df_test.csv\")\n",
    "official_test_complete = official_test.dropna()\n",
    "official_test_complete_std = StandardScaler().fit_transform(official_test_complete)"
   ]
  },
  {
   "cell_type": "markdown",
   "metadata": {},
   "source": [
    "# Model training"
   ]
  },
  {
   "cell_type": "markdown",
   "metadata": {},
   "source": [
    "### Default decision tree - coarse classifier"
   ]
  },
  {
   "cell_type": "code",
   "execution_count": 5,
   "metadata": {},
   "outputs": [
    {
     "name": "stdout",
     "output_type": "stream",
     "text": [
      "Overall accuracy:0.5717391304347826 \n",
      "\n",
      "MCC: 0.048415622101084924 \n",
      "\n",
      "Precision: 0.3562547250237256 \n",
      "\n",
      "Recall: 0.3561996905370399 \n",
      "\n",
      "Label               Precision    Recall    F-score    Support\n",
      "----------------  -----------  --------  ---------  ---------\n",
      "5G-conspiracy       0.0943396  0.113636   0.103093         44\n",
      "non-conspiracy      0.73913    0.716867   0.727829        332\n",
      "other-conspiracy    0.235294   0.238095   0.236686         84\n"
     ]
    }
   ],
   "source": [
    "clf = DecisionTreeClassifier()\n",
    "clf = clf.fit(x_train,y_train)\n",
    "y_pred = clf.predict(x_test)\n",
    "\n",
    "precision, recall, fscore, support = metrics.precision_recall_fscore_support(y_test, y_pred)\n",
    "labels = ['5G-conspiracy', 'non-conspiracy', 'other-conspiracy']\n",
    "acc = metrics.accuracy_score(y_test, y_pred)\n",
    "mcc = metrics.matthews_corrcoef(y_test, y_pred)\n",
    "prec = metrics.precision_score(y_test, y_pred, average='macro')\n",
    "rec = metrics.recall_score(y_test, y_pred, average='macro')\n",
    "print(\"Overall accuracy:\" + str(acc), '\\n')\n",
    "print(\"MCC: \" + str(mcc), '\\n')\n",
    "print(\"Precision: \" + str(prec), '\\n')\n",
    "print(\"Recall: \" + str(rec), '\\n')\n",
    "print(tabulate({\"Label\": labels,\n",
    "               \"Precision\": precision,\n",
    "               \"Recall\": recall,\n",
    "               \"F-score\": fscore,\n",
    "               \"Support\": support}, headers=\"keys\"))\n",
    "workbook = op.load_workbook(\"/Users/maria/Desktop/twitterAnalysis/FakeNews/scripts/graphs/model_summary.xlsx\")\n",
    "worksheet = workbook.worksheets[0]\n",
    "row_n = worksheet.max_row+1\n",
    "worksheet.cell(row=row_n, column=1).value = 'decision_tree_gini'\n",
    "worksheet.cell(row=row_n, column=2).value = 'Decision Tree'\n",
    "worksheet.cell(row=row_n, column=3).value = 'Structural Data'\n",
    "worksheet.cell(row=row_n, column=4).value = 'Multi-class'\n",
    "worksheet.cell(row=row_n, column=5).value = mcc\n",
    "worksheet.cell(row=row_n, column=6).value = acc\n",
    "worksheet.cell(row=row_n, column=7).value = prec\n",
    "worksheet.cell(row=row_n, column=8).value = rec\n",
    "worksheet.cell(row=row_n, column=9).value = datetime.now()\n",
    "workbook.save('/Users/maria/Desktop/twitterAnalysis/FakeNews/scripts/graphs/model_summary.xlsx')"
   ]
  },
  {
   "cell_type": "code",
   "execution_count": 6,
   "metadata": {},
   "outputs": [
    {
     "name": "stderr",
     "output_type": "stream",
     "text": [
      "/Users/maria/anaconda3/lib/python3.7/site-packages/ipykernel_launcher.py:1: SettingWithCopyWarning: \n",
      "A value is trying to be set on a copy of a slice from a DataFrame.\n",
      "Try using .loc[row_indexer,col_indexer] = value instead\n",
      "\n",
      "See the caveats in the documentation: http://pandas.pydata.org/pandas-docs/stable/indexing.html#indexing-view-versus-copy\n",
      "  \"\"\"Entry point for launching an IPython kernel.\n",
      "/Users/maria/anaconda3/lib/python3.7/site-packages/pandas/core/generic.py:6130: SettingWithCopyWarning: \n",
      "A value is trying to be set on a copy of a slice from a DataFrame\n",
      "\n",
      "See the caveats in the documentation: http://pandas.pydata.org/pandas-docs/stable/indexing.html#indexing-view-versus-copy\n",
      "  self._update_inplace(new_data)\n"
     ]
    }
   ],
   "source": [
    "official_test_complete['label'] = clf.predict(official_test_complete_std)\n",
    "official_test_all = pd.concat([official_test, official_test_complete], axis=1)\n",
    "labels = official_test_all['label']\n",
    "labels.fillna('0', inplace=True)\n",
    "labels.to_csv('decision_tree_gini.csv', header=False)"
   ]
  },
  {
   "cell_type": "markdown",
   "metadata": {},
   "source": [
    "### Entropy (information gain) criterion  - coarse classifier"
   ]
  },
  {
   "cell_type": "code",
   "execution_count": 7,
   "metadata": {},
   "outputs": [
    {
     "name": "stdout",
     "output_type": "stream",
     "text": [
      "Overall accuracy:0.5673913043478261 \n",
      "\n",
      "MCC: 0.02900872243215721 \n",
      "\n",
      "Precision: 0.34694198288267813 \n",
      "\n",
      "Recall: 0.34954971400754536 \n",
      "\n",
      "Label               Precision    Recall    F-score    Support\n",
      "----------------  -----------  --------  ---------  ---------\n",
      "5G-conspiracy        0.12963   0.159091   0.142857         44\n",
      "non-conspiracy       0.736196  0.722892   0.729483        332\n",
      "other-conspiracy     0.175     0.166667   0.170732         84\n"
     ]
    }
   ],
   "source": [
    "clf = DecisionTreeClassifier(criterion=\"entropy\")\n",
    "clf = clf.fit(x_train,y_train)\n",
    "y_pred = clf.predict(x_test)\n",
    "\n",
    "precision, recall, fscore, support = metrics.precision_recall_fscore_support(y_test, y_pred)\n",
    "labels = ['5G-conspiracy', 'non-conspiracy', 'other-conspiracy']\n",
    "acc = metrics.accuracy_score(y_test, y_pred)\n",
    "mcc = metrics.matthews_corrcoef(y_test, y_pred)\n",
    "prec = metrics.precision_score(y_test, y_pred, average='macro')\n",
    "rec = metrics.recall_score(y_test, y_pred, average='macro')\n",
    "print(\"Overall accuracy:\" + str(acc), '\\n')\n",
    "print(\"MCC: \" + str(mcc), '\\n')\n",
    "print(\"Precision: \" + str(prec), '\\n')\n",
    "print(\"Recall: \" + str(rec), '\\n')\n",
    "print(tabulate({\"Label\": labels,\n",
    "               \"Precision\": precision,\n",
    "               \"Recall\": recall,\n",
    "               \"F-score\": fscore,\n",
    "               \"Support\": support}, headers=\"keys\"))\n",
    "workbook = op.load_workbook(\"/Users/maria/Desktop/twitterAnalysis/FakeNews/scripts/graphs/model_summary.xlsx\")\n",
    "worksheet = workbook.worksheets[0]\n",
    "row_n = worksheet.max_row+1\n",
    "worksheet.cell(row=row_n, column=1).value = 'decision_tree_entropy'\n",
    "worksheet.cell(row=row_n, column=2).value = 'Decision Tree'\n",
    "worksheet.cell(row=row_n, column=3).value = 'Structural Data'\n",
    "worksheet.cell(row=row_n, column=4).value = 'Multi-class'\n",
    "worksheet.cell(row=row_n, column=5).value = mcc\n",
    "worksheet.cell(row=row_n, column=6).value = acc\n",
    "worksheet.cell(row=row_n, column=7).value = prec\n",
    "worksheet.cell(row=row_n, column=8).value = rec\n",
    "worksheet.cell(row=row_n, column=9).value = datetime.now()\n",
    "workbook.save('/Users/maria/Desktop/twitterAnalysis/FakeNews/scripts/graphs/model_summary.xlsx')"
   ]
  },
  {
   "cell_type": "code",
   "execution_count": 8,
   "metadata": {},
   "outputs": [
    {
     "name": "stderr",
     "output_type": "stream",
     "text": [
      "/Users/maria/anaconda3/lib/python3.7/site-packages/ipykernel_launcher.py:1: SettingWithCopyWarning: \n",
      "A value is trying to be set on a copy of a slice from a DataFrame.\n",
      "Try using .loc[row_indexer,col_indexer] = value instead\n",
      "\n",
      "See the caveats in the documentation: http://pandas.pydata.org/pandas-docs/stable/indexing.html#indexing-view-versus-copy\n",
      "  \"\"\"Entry point for launching an IPython kernel.\n",
      "/Users/maria/anaconda3/lib/python3.7/site-packages/pandas/core/generic.py:6130: SettingWithCopyWarning: \n",
      "A value is trying to be set on a copy of a slice from a DataFrame\n",
      "\n",
      "See the caveats in the documentation: http://pandas.pydata.org/pandas-docs/stable/indexing.html#indexing-view-versus-copy\n",
      "  self._update_inplace(new_data)\n"
     ]
    }
   ],
   "source": [
    "official_test_complete['label'] = clf.predict(official_test_complete_std)\n",
    "official_test_all = pd.concat([official_test, official_test_complete], axis=1)\n",
    "labels = official_test_all['label']\n",
    "labels.fillna('0', inplace=True)\n",
    "labels.to_csv('decision_tree_entropy.csv', header=False)"
   ]
  },
  {
   "cell_type": "markdown",
   "metadata": {},
   "source": [
    "### Gini criterion with max depth  - coarse classifier"
   ]
  },
  {
   "cell_type": "code",
   "execution_count": 9,
   "metadata": {},
   "outputs": [
    {
     "name": "stdout",
     "output_type": "stream",
     "text": [
      "Overall accuracy:0.7108695652173913 \n",
      "\n",
      "MCC: -0.002483053106230638 \n",
      "\n",
      "Precision: 0.2779830828611316 \n",
      "\n",
      "Recall: 0.33127749091604514 \n",
      "\n",
      "Label               Precision     Recall    F-score    Support\n",
      "----------------  -----------  ---------  ---------  ---------\n",
      "5G-conspiracy        0         0          0                 44\n",
      "non-conspiracy       0.722838  0.981928   0.832695         332\n",
      "other-conspiracy     0.111111  0.0119048  0.0215054         84\n"
     ]
    },
    {
     "name": "stderr",
     "output_type": "stream",
     "text": [
      "/Users/maria/anaconda3/lib/python3.7/site-packages/sklearn/metrics/classification.py:1143: UndefinedMetricWarning: Precision and F-score are ill-defined and being set to 0.0 in labels with no predicted samples.\n",
      "  'precision', 'predicted', average, warn_for)\n",
      "/Users/maria/anaconda3/lib/python3.7/site-packages/sklearn/metrics/classification.py:1143: UndefinedMetricWarning: Precision is ill-defined and being set to 0.0 in labels with no predicted samples.\n",
      "  'precision', 'predicted', average, warn_for)\n"
     ]
    }
   ],
   "source": [
    "clf = DecisionTreeClassifier(max_depth=3)\n",
    "clf = clf.fit(x_train,y_train)\n",
    "y_pred = clf.predict(x_test)\n",
    "\n",
    "precision, recall, fscore, support = metrics.precision_recall_fscore_support(y_test, y_pred)\n",
    "labels = ['5G-conspiracy', 'non-conspiracy', 'other-conspiracy']\n",
    "acc = metrics.accuracy_score(y_test, y_pred)\n",
    "mcc = metrics.matthews_corrcoef(y_test, y_pred)\n",
    "prec = metrics.precision_score(y_test, y_pred, average='macro')\n",
    "rec = metrics.recall_score(y_test, y_pred, average='macro')\n",
    "print(\"Overall accuracy:\" + str(acc), '\\n')\n",
    "print(\"MCC: \" + str(mcc), '\\n')\n",
    "print(\"Precision: \" + str(prec), '\\n')\n",
    "print(\"Recall: \" + str(rec), '\\n')\n",
    "print(tabulate({\"Label\": labels,\n",
    "               \"Precision\": precision,\n",
    "               \"Recall\": recall,\n",
    "               \"F-score\": fscore,\n",
    "               \"Support\": support}, headers=\"keys\"))\n",
    "workbook = op.load_workbook(\"/Users/maria/Desktop/twitterAnalysis/FakeNews/scripts/graphs/model_summary.xlsx\")\n",
    "worksheet = workbook.worksheets[0]\n",
    "row_n = worksheet.max_row+1\n",
    "worksheet.cell(row=row_n, column=1).value = 'decision_tree_gini_max_depth'\n",
    "worksheet.cell(row=row_n, column=2).value = 'Decision Tree'\n",
    "worksheet.cell(row=row_n, column=3).value = 'Structural Data'\n",
    "worksheet.cell(row=row_n, column=4).value = 'Multi-class'\n",
    "worksheet.cell(row=row_n, column=5).value = mcc\n",
    "worksheet.cell(row=row_n, column=6).value = acc\n",
    "worksheet.cell(row=row_n, column=7).value = prec\n",
    "worksheet.cell(row=row_n, column=8).value = rec\n",
    "worksheet.cell(row=row_n, column=9).value = datetime.now()\n",
    "workbook.save('/Users/maria/Desktop/twitterAnalysis/FakeNews/scripts/graphs/model_summary.xlsx')"
   ]
  },
  {
   "cell_type": "code",
   "execution_count": 10,
   "metadata": {},
   "outputs": [
    {
     "name": "stderr",
     "output_type": "stream",
     "text": [
      "/Users/maria/anaconda3/lib/python3.7/site-packages/ipykernel_launcher.py:1: SettingWithCopyWarning: \n",
      "A value is trying to be set on a copy of a slice from a DataFrame.\n",
      "Try using .loc[row_indexer,col_indexer] = value instead\n",
      "\n",
      "See the caveats in the documentation: http://pandas.pydata.org/pandas-docs/stable/indexing.html#indexing-view-versus-copy\n",
      "  \"\"\"Entry point for launching an IPython kernel.\n",
      "/Users/maria/anaconda3/lib/python3.7/site-packages/pandas/core/generic.py:6130: SettingWithCopyWarning: \n",
      "A value is trying to be set on a copy of a slice from a DataFrame\n",
      "\n",
      "See the caveats in the documentation: http://pandas.pydata.org/pandas-docs/stable/indexing.html#indexing-view-versus-copy\n",
      "  self._update_inplace(new_data)\n"
     ]
    }
   ],
   "source": [
    "official_test_complete['label'] = clf.predict(official_test_complete_std)\n",
    "official_test_all = pd.concat([official_test, official_test_complete], axis=1)\n",
    "labels = official_test_all['label']\n",
    "labels.fillna('0', inplace=True)\n",
    "labels.to_csv('decision_tree_gini_max_depth.csv', header=False)"
   ]
  },
  {
   "cell_type": "markdown",
   "metadata": {},
   "source": [
    "### Entropy (information gain) criterion with max depth  - coarse classifier"
   ]
  },
  {
   "cell_type": "code",
   "execution_count": 11,
   "metadata": {},
   "outputs": [
    {
     "name": "stdout",
     "output_type": "stream",
     "text": [
      "Overall accuracy:0.7108695652173913 \n",
      "\n",
      "MCC: -0.002483053106230638 \n",
      "\n",
      "Precision: 0.2779830828611316 \n",
      "\n",
      "Recall: 0.33127749091604514 \n",
      "\n",
      "Label               Precision     Recall    F-score    Support\n",
      "----------------  -----------  ---------  ---------  ---------\n",
      "5G-conspiracy        0         0          0                 44\n",
      "non-conspiracy       0.722838  0.981928   0.832695         332\n",
      "other-conspiracy     0.111111  0.0119048  0.0215054         84\n"
     ]
    },
    {
     "name": "stderr",
     "output_type": "stream",
     "text": [
      "/Users/maria/anaconda3/lib/python3.7/site-packages/sklearn/metrics/classification.py:1143: UndefinedMetricWarning: Precision and F-score are ill-defined and being set to 0.0 in labels with no predicted samples.\n",
      "  'precision', 'predicted', average, warn_for)\n",
      "/Users/maria/anaconda3/lib/python3.7/site-packages/sklearn/metrics/classification.py:1143: UndefinedMetricWarning: Precision is ill-defined and being set to 0.0 in labels with no predicted samples.\n",
      "  'precision', 'predicted', average, warn_for)\n"
     ]
    }
   ],
   "source": [
    "clf = DecisionTreeClassifier(criterion=\"entropy\", max_depth=3)\n",
    "clf = clf.fit(x_train,y_train)\n",
    "y_pred = clf.predict(x_test)\n",
    "\n",
    "precision, recall, fscore, support = metrics.precision_recall_fscore_support(y_test, y_pred)\n",
    "labels = ['5G-conspiracy', 'non-conspiracy', 'other-conspiracy']\n",
    "acc = metrics.accuracy_score(y_test, y_pred)\n",
    "mcc = metrics.matthews_corrcoef(y_test, y_pred)\n",
    "prec = metrics.precision_score(y_test, y_pred, average='macro')\n",
    "rec = metrics.recall_score(y_test, y_pred, average='macro')\n",
    "print(\"Overall accuracy:\" + str(acc), '\\n')\n",
    "print(\"MCC: \" + str(mcc), '\\n')\n",
    "print(\"Precision: \" + str(prec), '\\n')\n",
    "print(\"Recall: \" + str(rec), '\\n')\n",
    "print(tabulate({\"Label\": labels,\n",
    "               \"Precision\": precision,\n",
    "               \"Recall\": recall,\n",
    "               \"F-score\": fscore,\n",
    "               \"Support\": support}, headers=\"keys\"))\n",
    "workbook = op.load_workbook(\"/Users/maria/Desktop/twitterAnalysis/FakeNews/scripts/graphs/model_summary.xlsx\")\n",
    "worksheet = workbook.worksheets[0]\n",
    "row_n = worksheet.max_row+1\n",
    "worksheet.cell(row=row_n, column=1).value = 'decision_tree_entropy_max_depth'\n",
    "worksheet.cell(row=row_n, column=2).value = 'Decision Tree'\n",
    "worksheet.cell(row=row_n, column=3).value = 'Structural Data'\n",
    "worksheet.cell(row=row_n, column=4).value = 'Multi-class'\n",
    "worksheet.cell(row=row_n, column=5).value = mcc\n",
    "worksheet.cell(row=row_n, column=6).value = acc\n",
    "worksheet.cell(row=row_n, column=7).value = prec\n",
    "worksheet.cell(row=row_n, column=8).value = rec\n",
    "worksheet.cell(row=row_n, column=9).value = datetime.now()\n",
    "workbook.save('/Users/maria/Desktop/twitterAnalysis/FakeNews/scripts/graphs/model_summary.xlsx')"
   ]
  },
  {
   "cell_type": "code",
   "execution_count": 12,
   "metadata": {},
   "outputs": [
    {
     "name": "stderr",
     "output_type": "stream",
     "text": [
      "/Users/maria/anaconda3/lib/python3.7/site-packages/ipykernel_launcher.py:1: SettingWithCopyWarning: \n",
      "A value is trying to be set on a copy of a slice from a DataFrame.\n",
      "Try using .loc[row_indexer,col_indexer] = value instead\n",
      "\n",
      "See the caveats in the documentation: http://pandas.pydata.org/pandas-docs/stable/indexing.html#indexing-view-versus-copy\n",
      "  \"\"\"Entry point for launching an IPython kernel.\n",
      "/Users/maria/anaconda3/lib/python3.7/site-packages/pandas/core/generic.py:6130: SettingWithCopyWarning: \n",
      "A value is trying to be set on a copy of a slice from a DataFrame\n",
      "\n",
      "See the caveats in the documentation: http://pandas.pydata.org/pandas-docs/stable/indexing.html#indexing-view-versus-copy\n",
      "  self._update_inplace(new_data)\n"
     ]
    }
   ],
   "source": [
    "official_test_complete['label'] = clf.predict(official_test_complete_std)\n",
    "official_test_all = pd.concat([official_test, official_test_complete], axis=1)\n",
    "labels = official_test_all['label']\n",
    "labels.fillna('0', inplace=True)\n",
    "labels.to_csv('decision_tree_entropy_max_depth.csv', header=False)"
   ]
  },
  {
   "cell_type": "markdown",
   "metadata": {},
   "source": [
    "# Extra Features"
   ]
  },
  {
   "cell_type": "markdown",
   "metadata": {},
   "source": [
    "### Visualize decision tree"
   ]
  },
  {
   "cell_type": "code",
   "execution_count": 13,
   "metadata": {},
   "outputs": [
    {
     "ename": "IndexError",
     "evalue": "list index out of range",
     "output_type": "error",
     "traceback": [
      "\u001b[0;31m---------------------------------------------------------------------------\u001b[0m",
      "\u001b[0;31mIndexError\u001b[0m                                Traceback (most recent call last)",
      "\u001b[0;32m<ipython-input-13-4d9db32c9806>\u001b[0m in \u001b[0;36m<module>\u001b[0;34m\u001b[0m\n\u001b[1;32m      7\u001b[0m export_graphviz(clf, out_file=dot_data,  \n\u001b[1;32m      8\u001b[0m                 \u001b[0mfilled\u001b[0m\u001b[0;34m=\u001b[0m\u001b[0;32mTrue\u001b[0m\u001b[0;34m,\u001b[0m \u001b[0mrounded\u001b[0m\u001b[0;34m=\u001b[0m\u001b[0;32mTrue\u001b[0m\u001b[0;34m,\u001b[0m\u001b[0;34m\u001b[0m\u001b[0;34m\u001b[0m\u001b[0m\n\u001b[0;32m----> 9\u001b[0;31m                 special_characters=True, feature_names = feature_cols,class_names=['no', 'yes'])\n\u001b[0m\u001b[1;32m     10\u001b[0m \u001b[0mgraph\u001b[0m \u001b[0;34m=\u001b[0m \u001b[0mpydotplus\u001b[0m\u001b[0;34m.\u001b[0m\u001b[0mgraph_from_dot_data\u001b[0m\u001b[0;34m(\u001b[0m\u001b[0mdot_data\u001b[0m\u001b[0;34m.\u001b[0m\u001b[0mgetvalue\u001b[0m\u001b[0;34m(\u001b[0m\u001b[0;34m)\u001b[0m\u001b[0;34m)\u001b[0m\u001b[0;34m\u001b[0m\u001b[0;34m\u001b[0m\u001b[0m\n\u001b[1;32m     11\u001b[0m \u001b[0mgraph\u001b[0m\u001b[0;34m.\u001b[0m\u001b[0mwrite_png\u001b[0m\u001b[0;34m(\u001b[0m\u001b[0;34m'decision_tree.png'\u001b[0m\u001b[0;34m)\u001b[0m\u001b[0;34m\u001b[0m\u001b[0;34m\u001b[0m\u001b[0m\n",
      "\u001b[0;32m~/anaconda3/lib/python3.7/site-packages/sklearn/tree/export.py\u001b[0m in \u001b[0;36mexport_graphviz\u001b[0;34m(decision_tree, out_file, max_depth, feature_names, class_names, label, filled, leaves_parallel, impurity, node_ids, proportion, rotate, rounded, special_characters, precision)\u001b[0m\n\u001b[1;32m    457\u001b[0m \u001b[0;34m\u001b[0m\u001b[0m\n\u001b[1;32m    458\u001b[0m         \u001b[0;31m# Now recurse the tree and add node & edge attributes\u001b[0m\u001b[0;34m\u001b[0m\u001b[0;34m\u001b[0m\u001b[0;34m\u001b[0m\u001b[0m\n\u001b[0;32m--> 459\u001b[0;31m         \u001b[0mrecurse\u001b[0m\u001b[0;34m(\u001b[0m\u001b[0mdecision_tree\u001b[0m\u001b[0;34m.\u001b[0m\u001b[0mtree_\u001b[0m\u001b[0;34m,\u001b[0m \u001b[0;36m0\u001b[0m\u001b[0;34m,\u001b[0m \u001b[0mcriterion\u001b[0m\u001b[0;34m=\u001b[0m\u001b[0mdecision_tree\u001b[0m\u001b[0;34m.\u001b[0m\u001b[0mcriterion\u001b[0m\u001b[0;34m)\u001b[0m\u001b[0;34m\u001b[0m\u001b[0;34m\u001b[0m\u001b[0m\n\u001b[0m\u001b[1;32m    460\u001b[0m \u001b[0;34m\u001b[0m\u001b[0m\n\u001b[1;32m    461\u001b[0m         \u001b[0;31m# If required, draw leaf nodes at same depth as each other\u001b[0m\u001b[0;34m\u001b[0m\u001b[0;34m\u001b[0m\u001b[0;34m\u001b[0m\u001b[0m\n",
      "\u001b[0;32m~/anaconda3/lib/python3.7/site-packages/sklearn/tree/export.py\u001b[0m in \u001b[0;36mrecurse\u001b[0;34m(tree, node_id, criterion, parent, depth)\u001b[0m\n\u001b[1;32m    377\u001b[0m             \u001b[0;32mif\u001b[0m \u001b[0mleft_child\u001b[0m \u001b[0;34m!=\u001b[0m \u001b[0m_tree\u001b[0m\u001b[0;34m.\u001b[0m\u001b[0mTREE_LEAF\u001b[0m\u001b[0;34m:\u001b[0m\u001b[0;34m\u001b[0m\u001b[0;34m\u001b[0m\u001b[0m\n\u001b[1;32m    378\u001b[0m                 recurse(tree, left_child, criterion=criterion, parent=node_id,\n\u001b[0;32m--> 379\u001b[0;31m                         depth=depth + 1)\n\u001b[0m\u001b[1;32m    380\u001b[0m                 recurse(tree, right_child, criterion=criterion, parent=node_id,\n\u001b[1;32m    381\u001b[0m                         depth=depth + 1)\n",
      "\u001b[0;32m~/anaconda3/lib/python3.7/site-packages/sklearn/tree/export.py\u001b[0m in \u001b[0;36mrecurse\u001b[0;34m(tree, node_id, criterion, parent, depth)\u001b[0m\n\u001b[1;32m    379\u001b[0m                         depth=depth + 1)\n\u001b[1;32m    380\u001b[0m                 recurse(tree, right_child, criterion=criterion, parent=node_id,\n\u001b[0;32m--> 381\u001b[0;31m                         depth=depth + 1)\n\u001b[0m\u001b[1;32m    382\u001b[0m \u001b[0;34m\u001b[0m\u001b[0m\n\u001b[1;32m    383\u001b[0m         \u001b[0;32melse\u001b[0m\u001b[0;34m:\u001b[0m\u001b[0;34m\u001b[0m\u001b[0;34m\u001b[0m\u001b[0m\n",
      "\u001b[0;32m~/anaconda3/lib/python3.7/site-packages/sklearn/tree/export.py\u001b[0m in \u001b[0;36mrecurse\u001b[0;34m(tree, node_id, criterion, parent, depth)\u001b[0m\n\u001b[1;32m    377\u001b[0m             \u001b[0;32mif\u001b[0m \u001b[0mleft_child\u001b[0m \u001b[0;34m!=\u001b[0m \u001b[0m_tree\u001b[0m\u001b[0;34m.\u001b[0m\u001b[0mTREE_LEAF\u001b[0m\u001b[0;34m:\u001b[0m\u001b[0;34m\u001b[0m\u001b[0;34m\u001b[0m\u001b[0m\n\u001b[1;32m    378\u001b[0m                 recurse(tree, left_child, criterion=criterion, parent=node_id,\n\u001b[0;32m--> 379\u001b[0;31m                         depth=depth + 1)\n\u001b[0m\u001b[1;32m    380\u001b[0m                 recurse(tree, right_child, criterion=criterion, parent=node_id,\n\u001b[1;32m    381\u001b[0m                         depth=depth + 1)\n",
      "\u001b[0;32m~/anaconda3/lib/python3.7/site-packages/sklearn/tree/export.py\u001b[0m in \u001b[0;36mrecurse\u001b[0;34m(tree, node_id, criterion, parent, depth)\u001b[0m\n\u001b[1;32m    334\u001b[0m             out_file.write('%d [label=%s'\n\u001b[1;32m    335\u001b[0m                            % (node_id,\n\u001b[0;32m--> 336\u001b[0;31m                               node_to_str(tree, node_id, criterion)))\n\u001b[0m\u001b[1;32m    337\u001b[0m \u001b[0;34m\u001b[0m\u001b[0m\n\u001b[1;32m    338\u001b[0m             \u001b[0;32mif\u001b[0m \u001b[0mfilled\u001b[0m\u001b[0;34m:\u001b[0m\u001b[0;34m\u001b[0m\u001b[0;34m\u001b[0m\u001b[0m\n",
      "\u001b[0;32m~/anaconda3/lib/python3.7/site-packages/sklearn/tree/export.py\u001b[0m in \u001b[0;36mnode_to_str\u001b[0;34m(tree, node_id, criterion)\u001b[0m\n\u001b[1;32m    299\u001b[0m                 \u001b[0mnode_string\u001b[0m \u001b[0;34m+=\u001b[0m \u001b[0;34m'class = '\u001b[0m\u001b[0;34m\u001b[0m\u001b[0;34m\u001b[0m\u001b[0m\n\u001b[1;32m    300\u001b[0m             \u001b[0;32mif\u001b[0m \u001b[0mclass_names\u001b[0m \u001b[0;32mis\u001b[0m \u001b[0;32mnot\u001b[0m \u001b[0;32mTrue\u001b[0m\u001b[0;34m:\u001b[0m\u001b[0;34m\u001b[0m\u001b[0;34m\u001b[0m\u001b[0m\n\u001b[0;32m--> 301\u001b[0;31m                 \u001b[0mclass_name\u001b[0m \u001b[0;34m=\u001b[0m \u001b[0mclass_names\u001b[0m\u001b[0;34m[\u001b[0m\u001b[0mnp\u001b[0m\u001b[0;34m.\u001b[0m\u001b[0margmax\u001b[0m\u001b[0;34m(\u001b[0m\u001b[0mvalue\u001b[0m\u001b[0;34m)\u001b[0m\u001b[0;34m]\u001b[0m\u001b[0;34m\u001b[0m\u001b[0;34m\u001b[0m\u001b[0m\n\u001b[0m\u001b[1;32m    302\u001b[0m             \u001b[0;32melse\u001b[0m\u001b[0;34m:\u001b[0m\u001b[0;34m\u001b[0m\u001b[0;34m\u001b[0m\u001b[0m\n\u001b[1;32m    303\u001b[0m                 class_name = \"y%s%s%s\" % (characters[1],\n",
      "\u001b[0;31mIndexError\u001b[0m: list index out of range"
     ]
    }
   ],
   "source": [
    "from sklearn.externals.six import StringIO  \n",
    "from IPython.display import Image  \n",
    "from sklearn.tree import export_graphviz\n",
    "import pydotplus\n",
    "dot_data = StringIO()\n",
    "feature_cols = list(x_unprocessed.columns.values)\n",
    "export_graphviz(clf, out_file=dot_data,  \n",
    "                filled=True, rounded=True,\n",
    "                special_characters=True, feature_names = feature_cols,class_names=['no', 'yes'])\n",
    "graph = pydotplus.graph_from_dot_data(dot_data.getvalue())  \n",
    "graph.write_png('decision_tree.png')\n",
    "Image(graph.create_png())"
   ]
  },
  {
   "cell_type": "markdown",
   "metadata": {},
   "source": [
    "### Feature importance"
   ]
  },
  {
   "cell_type": "code",
   "execution_count": null,
   "metadata": {},
   "outputs": [],
   "source": [
    "feat_importance = clf.tree_.compute_feature_importances(normalize=False)\n",
    "feat_imp_dict = dict(zip(feature_cols, clf.feature_importances_))\n",
    "feat_imp = pd.DataFrame.from_dict(feat_imp_dict, orient='index')\n",
    "feat_imp.rename(columns = {0:'FeatureImportance'}, inplace = True)\n",
    "feat_imp.sort_values(by=['FeatureImportance'], ascending=False).head()"
   ]
  },
  {
   "cell_type": "code",
   "execution_count": null,
   "metadata": {},
   "outputs": [],
   "source": [
    "# Sources\n",
    "\n",
    "# https://www.datacamp.com/community/tutorials/decision-tree-classification-python\n",
    "# https://towardsdatascience.com/decision-tree-algorithm-for-multiclass-problems-using-python-6b0ec1183bf5\n"
   ]
  }
 ],
 "metadata": {
  "kernelspec": {
   "display_name": "Python 3",
   "language": "python",
   "name": "python3"
  },
  "language_info": {
   "codemirror_mode": {
    "name": "ipython",
    "version": 3
   },
   "file_extension": ".py",
   "mimetype": "text/x-python",
   "name": "python",
   "nbconvert_exporter": "python",
   "pygments_lexer": "ipython3",
   "version": "3.7.3"
  }
 },
 "nbformat": 4,
 "nbformat_minor": 2
}
