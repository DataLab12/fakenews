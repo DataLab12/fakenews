{
 "cells": [
  {
   "cell_type": "code",
   "execution_count": 5,
   "metadata": {},
   "outputs": [],
   "source": [
    "import re\n",
    "from sklearn.base import BaseEstimator, TransformerMixin\n",
    "from sklearn.feature_extraction.text import CountVectorizer\n",
    "from sklearn.linear_model import LogisticRegression\n",
    "import sklearn.metrics\n",
    "from sklearn.pipeline import Pipeline"
   ]
  },
  {
   "cell_type": "code",
   "execution_count": 3,
   "metadata": {},
   "outputs": [],
   "source": [
    "#################\n",
    "# preprocessing #\n",
    "#################\n",
    "\n",
    "class Preprocessor(BaseEstimator, TransformerMixin):\n",
    "    def __init__(self):\n",
    "        self.re_prog_url = re.compile(r'https://t.co/([a-zA-Z0-9]+)')\n",
    "    \n",
    "    def fit( self, X, y=None ):\n",
    "        return self \n",
    "    \n",
    "    def _process(self, text):\n",
    "        \n",
    "        urls = self.re_prog_url.findall(text)\n",
    "        text = text.lower()\\\n",
    "                .replace('https://t.co/', '')\\\n",
    "                .replace('u.s.', 'us')\\\n",
    "                .replace('u.k.', 'uk')\n",
    "        for url in urls:\n",
    "            text = text.replace(url.lower(), 'url')\n",
    "\n",
    "        return text\n",
    "    \n",
    "    def transform(self, X, y=None):\n",
    "        \n",
    "        X = X.apply(self._process)\n",
    "        \n",
    "        return X"
   ]
  },
  {
   "cell_type": "code",
   "execution_count": 4,
   "metadata": {},
   "outputs": [],
   "source": [
    "############\n",
    "# pipeline #\n",
    "############\n",
    "\n",
    "classifier = LogisticRegression(\n",
    "    C=0.9,\n",
    "    class_weight={\n",
    "        1: 0.4,\n",
    "        2: 0.4,\n",
    "        3: 0.2\n",
    "    },\n",
    "    multi_class= 'ovr',\n",
    "    max_iter=2000,\n",
    "    solver= 'saga'\n",
    ")\n",
    "\n",
    "vectorizer = CountVectorizer(\n",
    "    strip_accents='unicode',\n",
    ")\n",
    "\n",
    "pipeline = Pipeline(\n",
    "    [\n",
    "        ('preprocessor', Preprocessor()),\n",
    "        ('vectorizer', vectorizer),\n",
    "        ('classifier', classifier)\n",
    "    ]\n",
    ")"
   ]
  },
  {
   "cell_type": "code",
   "execution_count": null,
   "metadata": {},
   "outputs": [],
   "source": [
    "############\n",
    "# Metadata #\n",
    "############\n",
    "\n",
    "META = {\n",
    "    'name': 'fine-grained text classification',\n",
    "    'description': 'Fine-grained text classification with Bag-Of-Words and Logistic Regression',\n",
    "    'baseline': False\n",
    "}"
   ]
  }
 ],
 "metadata": {
  "kernelspec": {
   "display_name": "Python 3",
   "language": "python",
   "name": "python3"
  },
  "language_info": {
   "codemirror_mode": {
    "name": "ipython",
    "version": 3
   },
   "file_extension": ".py",
   "mimetype": "text/x-python",
   "name": "python",
   "nbconvert_exporter": "python",
   "pygments_lexer": "ipython3",
   "version": "3.8.4rc1"
  }
 },
 "nbformat": 4,
 "nbformat_minor": 4
}
